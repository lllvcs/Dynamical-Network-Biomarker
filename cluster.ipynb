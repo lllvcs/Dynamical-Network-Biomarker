{
 "cells": [
  {
   "cell_type": "code",
   "execution_count": null,
   "id": "14b63c82",
   "metadata": {},
   "outputs": [],
   "source": [
    "from matplotlib import pyplot as plt\n",
    "from scipy.cluster.hierarchy import dendrogram, linkage, cophenet, complete, fcluster\n",
    "import numpy as np\n",
    "import pandas as pd\n",
    "from scipy.spatial.distance import pdist\n",
    "%matplotlib inline\n",
    "#np.set_printoptions(precision=5, suppress=True)"
   ]
  },
  {
   "cell_type": "code",
   "execution_count": null,
   "id": "8c0accf1",
   "metadata": {},
   "outputs": [],
   "source": [
    "fpkm50=pd.read_csv('50-1.csv')\n",
    "x=fpkm50.groupby('symbol').mean()"
   ]
  },
  {
   "cell_type": "code",
   "execution_count": null,
   "id": "ae8b2e58",
   "metadata": {},
   "outputs": [],
   "source": [
    "Y = pdist(x, metric='correlation' )"
   ]
  },
  {
   "cell_type": "code",
   "execution_count": null,
   "id": "0b9e1c83",
   "metadata": {},
   "outputs": [],
   "source": [
    "Y"
   ]
  },
  {
   "cell_type": "code",
   "execution_count": null,
   "id": "8f5bdd08",
   "metadata": {},
   "outputs": [],
   "source": [
    "Z = linkage(Y, method='ward', metric='correlation', optimal_ordering=False)"
   ]
  },
  {
   "cell_type": "code",
   "execution_count": null,
   "id": "af7bbcab",
   "metadata": {},
   "outputs": [],
   "source": [
    "np.savetxt('result50-1.csv', Z, delimiter = ',')"
   ]
  },
  {
   "cell_type": "code",
   "execution_count": null,
   "id": "8108a0b7",
   "metadata": {},
   "outputs": [],
   "source": [
    "plt.figure(figsize=(50, 10))\n",
    "plt.title('Hierarchical Clustering Dendrogram')\n",
    "plt.xlabel('sample index')\n",
    "plt.ylabel('distance')\n",
    "dendrogram(Z2\n",
    ", leaf_rotation=90., leaf_font_size=6.)\n",
    "plt.show()"
   ]
  },
  {
   "cell_type": "code",
   "execution_count": null,
   "id": "fe12e252",
   "metadata": {},
   "outputs": [],
   "source": [
    "plt.title('Hierarchical Clustering Dendrogram (truncated)')\n",
    "plt.xlabel('sample index')\n",
    "plt.ylabel('distance')\n",
    "dendrogram(Z, truncate_mode='lastp', p=12, show_leaf_counts=False, leaf_rotation=90., leaf_font_size=12., show_contracted=True)\n",
    "plt.show()"
   ]
  },
  {
   "cell_type": "code",
   "execution_count": null,
   "metadata": {},
   "outputs": [],
   "source": [
    "Z=pd.read_csv('result50-3.csv')"
   ]
  },
  {
   "cell_type": "code",
   "execution_count": null,
   "metadata": {},
   "outputs": [],
   "source": [
    "Z"
   ]
  },
  {
   "cell_type": "code",
   "execution_count": null,
   "id": "37e70fd2",
   "metadata": {},
   "outputs": [],
   "source": [
    "cluster = fcluster(Z, t=10, criterion='maxclust') "
   ]
  },
  {
   "cell_type": "code",
   "execution_count": null,
   "id": "c0aabf6b",
   "metadata": {},
   "outputs": [],
   "source": [
    "print (\"Original cluster by hierarchy clustering:\\n\",cluster)"
   ]
  },
  {
   "cell_type": "code",
   "execution_count": null,
   "metadata": {},
   "outputs": [],
   "source": [
    "np.savetxt('result50-1_cluster.csv', cluster, delimiter = ',')"
   ]
  }
 ],
 "metadata": {
  "interpreter": {
   "hash": "43f439b8994fac5a40604812eca8d42def0b0854e12db2f417619df5b4e0f927"
  },
  "kernelspec": {
   "display_name": "Python 3.8.11 64-bit ('cluster': conda)",
   "name": "python3"
  },
  "language_info": {
   "codemirror_mode": {
    "name": "ipython",
    "version": 3
   },
   "file_extension": ".py",
   "mimetype": "text/x-python",
   "name": "python",
   "nbconvert_exporter": "python",
   "pygments_lexer": "ipython3",
   "version": "3.8.11"
  }
 },
 "nbformat": 4,
 "nbformat_minor": 5
}
