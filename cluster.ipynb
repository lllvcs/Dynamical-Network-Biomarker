{
 "cells": [
  {
   "cell_type": "code",
   "execution_count": 2,
   "id": "14b63c82",
   "metadata": {},
   "outputs": [],
   "source": [
    "from matplotlib import pyplot as plt\n",
    "from scipy.cluster.hierarchy import dendrogram, linkage, cophenet, complete, fcluster\n",
    "import numpy as np\n",
    "import pandas as pd\n",
    "from scipy.spatial.distance import pdist\n",
    "%matplotlib inline\n",
    "#np.set_printoptions(precision=5, suppress=True)"
   ]
  },
  {
   "cell_type": "code",
   "execution_count": null,
   "id": "8c0accf1",
   "metadata": {},
   "outputs": [],
   "source": [
    "fpkm = pd.read_csv('in.csv')\n",
    "X = fpkm.groupby('symbol').mean()"
   ]
  },
  {
   "cell_type": "code",
   "execution_count": null,
   "id": "ae8b2e58",
   "metadata": {},
   "outputs": [],
   "source": [
    "Y = pdist(X, metric='correlation')"
   ]
  },
  {
   "cell_type": "code",
   "execution_count": null,
   "id": "8f5bdd08",
   "metadata": {},
   "outputs": [],
   "source": [
    "Z = linkage(Y, method='ward', metric='correlation', optimal_ordering=False)"
   ]
  },
  {
   "cell_type": "code",
   "execution_count": null,
   "id": "af7bbcab",
   "metadata": {},
   "outputs": [],
   "source": [
    "np.savetxt('out.csv', Z, delimiter=',')"
   ]
  },
  {
   "cell_type": "code",
   "execution_count": null,
   "id": "8108a0b7",
   "metadata": {},
   "outputs": [],
   "source": [
    "plt.figure(figsize=(50, 10))\n",
    "plt.title('Hierarchical Clustering Dendrogram')\n",
    "plt.xlabel('sample index')\n",
    "plt.ylabel('distance')\n",
    "dendrogram(Z, leaf_rotation=90., leaf_font_size=6.)\n",
    "plt.show()"
   ]
  },
  {
   "cell_type": "code",
   "execution_count": null,
   "id": "fe12e252",
   "metadata": {},
   "outputs": [],
   "source": [
    "plt.title('Hierarchical Clustering Dendrogram (truncated)')\n",
    "plt.xlabel('sample index')\n",
    "plt.ylabel('distance')\n",
    "dendrogram(Z,\n",
    "           truncate_mode='lastp',\n",
    "           p=12,\n",
    "           show_leaf_counts=False,\n",
    "           leaf_rotation=90.,\n",
    "           leaf_font_size=12.,\n",
    "           show_contracted=True)\n",
    "plt.show()"
   ]
  }
 ],
 "metadata": {
  "interpreter": {
   "hash": "43f439b8994fac5a40604812eca8d42def0b0854e12db2f417619df5b4e0f927"
  },
  "kernelspec": {
   "display_name": "Python 3.8.11 64-bit ('cluster': conda)",
   "name": "python3"
  },
  "language_info": {
   "codemirror_mode": {
    "name": "ipython",
    "version": 3
   },
   "file_extension": ".py",
   "mimetype": "text/x-python",
   "name": "python",
   "nbconvert_exporter": "python",
   "pygments_lexer": "ipython3",
   "version": "3.9.9"
  }
 },
 "nbformat": 4,
 "nbformat_minor": 5
}
