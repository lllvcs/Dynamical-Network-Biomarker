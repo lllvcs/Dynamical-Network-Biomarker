{
 "cells": [
  {
   "cell_type": "code",
   "execution_count": null,
   "id": "14b63c82",
   "metadata": {},
   "outputs": [],
   "source": [
    "from matplotlib import pyplot as plt\n",
    "from scipy.cluster.hierarchy import dendrogram, linkage, cophenet, complete, fcluster\n",
    "import numpy as np\n",
    "import pandas as pd\n",
    "from scipy.spatial.distance import pdist\n",
    "from scipy.special import perm, comb\n",
    "import random\n",
    "%matplotlib inline\n",
    "#np.set_printoptions(precision=5, suppress=True)"
   ]
  },
  {
   "cell_type": "code",
   "execution_count": null,
   "id": "8c0accf1",
   "metadata": {},
   "outputs": [],
   "source": [
    "# 数据导入\n",
    "x=pd.read_csv('50-6.csv')\n",
    "y=pd.read_csv('50-6.csv')"
   ]
  },
  {
   "cell_type": "code",
   "execution_count": null,
   "metadata": {},
   "outputs": [],
   "source": [
    "# 删除多余数据\n",
    "del x['cluster']\n",
    "del x['symbol']\n",
    "del x['num']\n",
    "x=x.to_numpy()"
   ]
  },
  {
   "cell_type": "code",
   "execution_count": null,
   "metadata": {},
   "outputs": [],
   "source": [
    "# 计算总表格皮尔森相关系数\n",
    "pc=np.corrcoef(x)\n",
    "pc=np.abs(pc)"
   ]
  },
  {
   "cell_type": "code",
   "execution_count": null,
   "metadata": {},
   "outputs": [],
   "source": [
    "for ii in range(1,y.max().cluster+1):\n",
    "    start=y[(y['cluster']==ii) ].min().num\n",
    "    end=y[(y['cluster']==ii) ].max().num\n",
    "    pccin=np.triu(pc[start-1:end,start-1:end])\n",
    "    pccin_ave=(np.sum(pccin)-(end-start+1))/comb(end-start+1,2)\n",
    "    sdin=0\n",
    "    for i in range(start-1,end):\n",
    "        sdin=sdin+np.std(x[i,:], ddof = 1)\n",
    "        sdin_ave=sdin/(end-start+1)\n",
    "    i=1\n",
    "    pccout=0\n",
    "    times=5000\n",
    "    while(i<=times):\n",
    "        rand=random.randint(0,len(x)-1)\n",
    "        if rand>=start and rand<=end:\n",
    "            continue\n",
    "        else:\n",
    "            pccout=pccout+np.sum(pc[rand,start-1:end])/(end-start+1)\n",
    "            i=i+1\n",
    "    pccout_ave=pccout/times\n",
    "    dnb=pccin_ave*sdin_ave/pccout_ave\n",
    "    print(dnb)"
   ]
  }
 ],
 "metadata": {
  "interpreter": {
   "hash": "43f439b8994fac5a40604812eca8d42def0b0854e12db2f417619df5b4e0f927"
  },
  "kernelspec": {
   "display_name": "Python 3.8.11 64-bit ('cluster': conda)",
   "name": "python3"
  },
  "language_info": {
   "codemirror_mode": {
    "name": "ipython",
    "version": 3
   },
   "file_extension": ".py",
   "mimetype": "text/x-python",
   "name": "python",
   "nbconvert_exporter": "python",
   "pygments_lexer": "ipython3",
   "version": "3.8.11"
  }
 },
 "nbformat": 4,
 "nbformat_minor": 5
}
