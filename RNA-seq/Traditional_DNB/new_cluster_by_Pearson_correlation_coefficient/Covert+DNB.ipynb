{
 "cells": [
  {
   "cell_type": "code",
   "execution_count": null,
   "id": "14b63c82",
   "metadata": {},
   "outputs": [],
   "source": [
    "# Copyright © 2021 LVCS. All Rights Reserved\n",
    "import numpy as np\n",
    "import pandas as pd\n",
    "import copy\n",
    "import random\n",
    "from scipy.special import comb\n"
   ]
  },
  {
   "cell_type": "code",
   "execution_count": null,
   "metadata": {},
   "outputs": [],
   "source": [
    "# 导入数据，初始化\n",
    "cluster_result_raw = np.loadtxt(\"in.csv\", delimiter=\",\")\n",
    "total = np.sum(cluster_result_raw != 0)\n",
    "cluster_done = np.zeros(total + 1, dtype=int)\n"
   ]
  },
  {
   "cell_type": "code",
   "execution_count": null,
   "metadata": {},
   "outputs": [],
   "source": [
    "# 整理聚类\n",
    "for i in range(len(cluster_result_raw)):\n",
    "    for j in range(len(cluster_result_raw[0][:])):\n",
    "        if cluster_result_raw[i][j] == 0:\n",
    "            break\n",
    "        else:\n",
    "            cluster_done[int(cluster_result_raw[i, j])] = str(i + 1)\n",
    "\n",
    "# 针对缺少元素的处理\n",
    "# a = np.where(cluster_done == 0)\n",
    "# cluster_done[a[0][1]] = (len(cluster_result_raw))\n",
    "\n",
    "# 删除多余项\n",
    "cluster_done = np.delete(cluster_done, cluster_done == 0)\n",
    "\n",
    "# 转换为df类型，方便输出\n",
    "cluster_done = pd.DataFrame(cluster_done)\n",
    "cluster_done.columns = [\"cluster\"]\n"
   ]
  },
  {
   "cell_type": "code",
   "execution_count": null,
   "id": "13a0e27f",
   "metadata": {},
   "outputs": [],
   "source": [
    "# 导入原始表格\n",
    "origin = pd.read_csv(\"1.csv\")\n",
    "origin.insert(1, \"cluster\", cluster_done)\n",
    "origin = origin.sort_values(by=[\"cluster\", \"symbol\"])\n",
    "origin.insert(2, \"num\", np.linspace(1, total, endpoint=True, num=total, dtype=int))\n",
    "x = copy.deepcopy(origin)\n"
   ]
  },
  {
   "cell_type": "code",
   "execution_count": null,
   "id": "a3cb8265",
   "metadata": {},
   "outputs": [],
   "source": [
    "# 删除多余数据\n",
    "del x[\"cluster\"]\n",
    "del x[\"symbol\"]\n",
    "del x[\"num\"]\n",
    "x = x.values\n"
   ]
  },
  {
   "cell_type": "code",
   "execution_count": null,
   "id": "75db23f5",
   "metadata": {},
   "outputs": [],
   "source": [
    "# 计算总表格皮尔森相关系数\n",
    "pc = np.corrcoef(x)\n",
    "pc = np.abs(pc)\n"
   ]
  },
  {
   "cell_type": "code",
   "execution_count": null,
   "id": "4c53af85",
   "metadata": {},
   "outputs": [],
   "source": [
    "# 计算DNB\n",
    "for ii in range(1, origin.max().cluster + 1):\n",
    "    # 计算当前聚类起始、结束位置\n",
    "    start = origin[(origin[\"cluster\"] == ii)].min().num\n",
    "    end = origin[(origin[\"cluster\"] == ii)].max().num\n",
    "    pccin = np.triu(pc[start - 1 : end, start - 1 : end])\n",
    "    pccin_ave = (np.sum(pccin) - (end - start + 1)) / comb(end - start + 1, 2)\n",
    "    sdin = 0\n",
    "    for i in range(start - 1, end):\n",
    "        sdin = sdin + np.std(x[i, :], ddof=1)\n",
    "        sdin_ave = sdin / (end - start + 1)\n",
    "    i = 1\n",
    "    pccout = 0\n",
    "    # PCCout元素随机选取\n",
    "    times = int(len(pc) / 5)\n",
    "    while i <= times:\n",
    "        rand = random.randint(0, len(x) - 1)\n",
    "        if rand >= start and rand <= end:\n",
    "            continue\n",
    "        else:\n",
    "            pccout = pccout + np.sum(pc[rand, start - 1 : end]) / (end - start + 1)\n",
    "            i = i + 1\n",
    "    pccout_ave = pccout / times\n",
    "    dnb = pccin_ave * sdin_ave / pccout_ave\n",
    "    print(dnb)\n"
   ]
  }
 ],
 "metadata": {
  "interpreter": {
   "hash": "43f439b8994fac5a40604812eca8d42def0b0854e12db2f417619df5b4e0f927"
  },
  "kernelspec": {
   "display_name": "Python 3.8.11 64-bit ('cluster': conda)",
   "name": "python3"
  },
  "language_info": {
   "codemirror_mode": {
    "name": "ipython",
    "version": 3
   },
   "file_extension": ".py",
   "mimetype": "text/x-python",
   "name": "python",
   "nbconvert_exporter": "python",
   "pygments_lexer": "ipython3",
   "version": "3.8.11"
  }
 },
 "nbformat": 4,
 "nbformat_minor": 5
}
