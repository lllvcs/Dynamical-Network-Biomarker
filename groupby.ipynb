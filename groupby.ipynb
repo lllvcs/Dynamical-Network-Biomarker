{
 "cells": [
  {
   "cell_type": "code",
   "execution_count": null,
   "id": "811f2506",
   "metadata": {},
   "outputs": [],
   "source": [
    "import numpy as np\n",
    "import pandas as pd"
   ]
  },
  {
   "cell_type": "code",
   "execution_count": null,
   "id": "60cf4cbd",
   "metadata": {},
   "outputs": [],
   "source": [
    "fpkm50_1=pd.read_csv('50-1.csv');\n",
    "fpkm50_2=pd.read_csv('50-2.csv');\n",
    "fpkm50_3=pd.read_csv('50-3.csv');\n",
    "fpkm50_4=pd.read_csv('50-4.csv');\n",
    "fpkm50_5=pd.read_csv('50-5.csv');\n",
    "fpkm50_6=pd.read_csv('50-6.csv');"
   ]
  },
  {
   "cell_type": "code",
   "execution_count": null,
   "id": "b737de9a",
   "metadata": {},
   "outputs": [],
   "source": [
    "fpkm50_1=fpkm50_1.groupby('symbol').mean()"
   ]
  },
  {
   "cell_type": "code",
   "execution_count": null,
   "id": "832d403a",
   "metadata": {},
   "outputs": [],
   "source": [
    "fpkm50_2=fpkm50_2.groupby('symbol').mean()"
   ]
  },
  {
   "cell_type": "code",
   "execution_count": null,
   "id": "6d2e7cb2",
   "metadata": {},
   "outputs": [],
   "source": [
    "fpkm50_3=fpkm50_3.groupby('symbol').mean()"
   ]
  },
  {
   "cell_type": "code",
   "execution_count": null,
   "id": "92e6669f",
   "metadata": {},
   "outputs": [],
   "source": [
    "fpkm50_4=fpkm50_4.groupby('symbol').mean()"
   ]
  },
  {
   "cell_type": "code",
   "execution_count": null,
   "id": "3bf7d70b",
   "metadata": {},
   "outputs": [],
   "source": [
    "fpkm50_5=fpkm50_5.groupby('symbol').mean()"
   ]
  },
  {
   "cell_type": "code",
   "execution_count": null,
   "id": "5e3f72c7",
   "metadata": {},
   "outputs": [],
   "source": [
    "fpkm50_6=fpkm50_6.groupby('symbol').mean()"
   ]
  },
  {
   "cell_type": "code",
   "execution_count": null,
   "id": "130d2ccd",
   "metadata": {},
   "outputs": [],
   "source": [
    "fpkm50_1"
   ]
  },
  {
   "cell_type": "code",
   "execution_count": null,
   "id": "93cf5ad0",
   "metadata": {},
   "outputs": [],
   "source": [
    "pd.read_csv('50-1.csv')"
   ]
  },
  {
   "cell_type": "code",
   "execution_count": null,
   "id": "8d06742e",
   "metadata": {},
   "outputs": [],
   "source": [
    "fpkm50_1.to_csv(\"50-1.csv\",sep=',')\n",
    "fpkm50_2.to_csv(\"50-2.csv\",sep=',')\n",
    "fpkm50_3.to_csv(\"50-3.csv\",sep=',')\n",
    "fpkm50_4.to_csv(\"50-4.csv\",sep=',')\n",
    "fpkm50_5.to_csv(\"50-5.csv\",sep=',')\n",
    "fpkm50_6.to_csv(\"50-6.csv\",sep=',')"
   ]
  },
  {
   "cell_type": "code",
   "execution_count": null,
   "id": "c3ac26d0",
   "metadata": {},
   "outputs": [],
   "source": [
    "fpkm50_1"
   ]
  },
  {
   "cell_type": "code",
   "execution_count": null,
   "id": "42fd8146",
   "metadata": {},
   "outputs": [],
   "source": []
  }
 ],
 "metadata": {
  "kernelspec": {
   "display_name": "Python 3 (ipykernel)",
   "language": "python",
   "name": "python3"
  },
  "language_info": {
   "codemirror_mode": {
    "name": "ipython",
    "version": 3
   },
   "file_extension": ".py",
   "mimetype": "text/x-python",
   "name": "python",
   "nbconvert_exporter": "python",
   "pygments_lexer": "ipython3",
   "version": "3.8.11"
  }
 },
 "nbformat": 4,
 "nbformat_minor": 5
}
