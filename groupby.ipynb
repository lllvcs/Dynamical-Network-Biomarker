{
 "cells": [
  {
   "cell_type": "code",
   "execution_count": null,
   "id": "811f2506",
   "metadata": {},
   "outputs": [],
   "source": [
    "import numpy as np\n",
    "import pandas as pd"
   ]
  },
  {
   "cell_type": "code",
   "execution_count": null,
   "id": "60cf4cbd",
   "metadata": {},
   "outputs": [],
   "source": [
    "fpkm=pd.read_csv('fine.csv')"
   ]
  },
  {
   "cell_type": "code",
   "execution_count": null,
   "id": "5e3f72c7",
   "metadata": {},
   "outputs": [],
   "source": [
    "fpkm=fpkm.groupby('symbol').mean()"
   ]
  },
  {
   "cell_type": "code",
   "execution_count": null,
   "id": "130d2ccd",
   "metadata": {},
   "outputs": [],
   "source": [
    "fpkm"
   ]
  },
  {
   "cell_type": "code",
   "execution_count": null,
   "id": "8d06742e",
   "metadata": {},
   "outputs": [],
   "source": [
    "fpkm.to_csv(\"done.csv\",sep=',')\n"
   ]
  }
 ],
 "metadata": {
  "interpreter": {
   "hash": "43f439b8994fac5a40604812eca8d42def0b0854e12db2f417619df5b4e0f927"
  },
  "kernelspec": {
   "display_name": "Python 3.8.11 64-bit ('cluster': conda)",
   "name": "python3"
  },
  "language_info": {
   "codemirror_mode": {
    "name": "ipython",
    "version": 3
   },
   "file_extension": ".py",
   "mimetype": "text/x-python",
   "name": "python",
   "nbconvert_exporter": "python",
   "pygments_lexer": "ipython3",
   "version": "3.8.11"
  }
 },
 "nbformat": 4,
 "nbformat_minor": 5
}
