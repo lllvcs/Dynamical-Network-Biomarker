{
 "cells": [
  {
   "cell_type": "code",
   "execution_count": null,
   "id": "14b63c82",
   "metadata": {},
   "outputs": [],
   "source": [
    "# Copyright © 2021 LVCS. All Rights Reserved\n",
    "import numpy as np\n",
    "import pandas as pd\n",
    "\n",
    "# 参数设定\n",
    "string_limit = 700\n",
    "num = 2\n"
   ]
  },
  {
   "cell_type": "code",
   "execution_count": null,
   "id": "ceb0df2a",
   "metadata": {},
   "outputs": [],
   "source": [
    "# STRINGdb转换部分"
   ]
  },
  {
   "cell_type": "code",
   "execution_count": null,
   "id": "d62a9d27",
   "metadata": {},
   "outputs": [],
   "source": [
    "# STRINGdb数据库导入\n",
    "stringdb = pd.read_csv(\"link.csv\", delimiter=\" \")\n",
    "# 删除前部的9606人类代号\n",
    "stringdb[\"protein1\"] = stringdb[\"protein1\"].str.slice(start=5)\n",
    "stringdb[\"protein2\"] = stringdb[\"protein2\"].str.slice(start=5)\n",
    "# 筛选出高等可信度数据\n",
    "stringdb = stringdb[stringdb[\"combined_score\"] >= string_limit]\n",
    "# 重新排序\n",
    "stringdb = stringdb.reset_index(drop=True)\n"
   ]
  },
  {
   "cell_type": "code",
   "execution_count": null,
   "id": "35488fee",
   "metadata": {},
   "outputs": [],
   "source": [
    "# 导入ENSP-序号对应文件\n",
    "dict1 = pd.read_csv(\"ensp.csv\")\n",
    "length = len(np.unique(dict1[\"ENSG\"].values))\n",
    "\n",
    "# 构建字典文件\n",
    "d = {dict1[\"ENSP\"][i]: int(dict1[\"id\"][i]) for i in range(len(dict1))}\n"
   ]
  },
  {
   "cell_type": "code",
   "execution_count": null,
   "id": "dccaad2e",
   "metadata": {},
   "outputs": [],
   "source": [
    "string_bool = np.zeros([length, length])\n"
   ]
  },
  {
   "cell_type": "code",
   "execution_count": null,
   "id": "348a50dd",
   "metadata": {},
   "outputs": [],
   "source": [
    "# STRINGdb转换为邻接矩阵\n",
    "for i in range(len(stringdb)):\n",
    "    if (stringdb[\"protein1\"][i] in d) & (stringdb[\"protein2\"][i] in d):\n",
    "        string_bool[d[stringdb[\"protein1\"][i]], d[stringdb[\"protein2\"][i]]] = 1\n",
    "\n",
    "for i in range(len(string_bool)):\n",
    "    string_bool[i, i] = 0\n",
    "\n",
    "string_bool = string_bool == 1\n"
   ]
  },
  {
   "cell_type": "code",
   "execution_count": null,
   "id": "ee18aacb",
   "metadata": {},
   "outputs": [],
   "source": [
    "# Landscape计算部分"
   ]
  },
  {
   "cell_type": "code",
   "execution_count": null,
   "id": "5cbd3b77",
   "metadata": {},
   "outputs": [],
   "source": [
    "# 数据导入\n",
    "origin_frame = pd.read_csv(\"1.csv\")\n",
    "del origin_frame[\"symbol\"]\n",
    "append_frame = pd.read_csv(str(num) + \".csv\")\n",
    "del append_frame[\"symbol\"]\n",
    "append_frame = pd.concat([origin_frame, append_frame], axis=1)\n",
    "origin_frame = origin_frame.to_numpy()\n",
    "append_frame = append_frame.to_numpy()\n"
   ]
  },
  {
   "cell_type": "code",
   "execution_count": null,
   "id": "0d102d23",
   "metadata": {},
   "outputs": [],
   "source": [
    "# 标准差计算\n",
    "origin_sd = []\n",
    "append_sd = []\n",
    "for i in range(len(origin_frame)):\n",
    "    origin_sd.append(np.std(origin_frame[i], ddof=1))\n",
    "    append_sd.append(np.std(append_frame[i], ddof=1))\n",
    "origin_sd = np.array(origin_sd)\n",
    "append_sd = np.array(append_sd)\n",
    "append_sd = np.abs(append_sd - origin_sd)\n"
   ]
  },
  {
   "cell_type": "code",
   "execution_count": null,
   "id": "10def11f",
   "metadata": {},
   "outputs": [],
   "source": [
    "# 相关系数计算\n",
    "origin_pc = np.corrcoef(origin_frame)\n",
    "origin_pc = np.abs(origin_pc)\n",
    "origin_pc = origin_pc * string_bool\n",
    "append_pc = np.corrcoef(append_frame)\n",
    "append_pc = np.abs(append_pc)\n",
    "append_pc = append_pc * string_bool\n"
   ]
  },
  {
   "cell_type": "code",
   "execution_count": null,
   "id": "4dfb8f97",
   "metadata": {},
   "outputs": [],
   "source": [
    "# 熵计算\n",
    "delta_entropy = []\n",
    "for i in range(len(origin_pc)):\n",
    "    x = np.where(origin_pc[i] != 0)[0]\n",
    "    y = np.where(append_pc[i] != 0)[0]\n",
    "    entropy = np.abs(\n",
    "        np.sum(np.log2(append_pc[i][y] / np.sum(append_pc[i]))) / np.log2(len(y))\n",
    "        - np.sum(np.log2(origin_pc[i][x] / np.sum(origin_pc[i]))) / np.log2(len(x))\n",
    "    )\n",
    "    if str(entropy) == \"nan\":\n",
    "        entropy = 0\n",
    "    delta_entropy.append(entropy)\n"
   ]
  },
  {
   "cell_type": "code",
   "execution_count": null,
   "id": "7ab9e095",
   "metadata": {},
   "outputs": [],
   "source": [
    "# Landscape输出\n",
    "landscape = append_sd * delta_entropy\n",
    "np.savetxt(\"landscape-\" + str(num) + \".csv\", delta_entropy, delimiter=\",\", fmt=\"%s\")\n"
   ]
  }
 ],
 "metadata": {
  "interpreter": {
   "hash": "43f439b8994fac5a40604812eca8d42def0b0854e12db2f417619df5b4e0f927"
  },
  "kernelspec": {
   "display_name": "Python 3.8.11 64-bit ('cluster': conda)",
   "name": "python3"
  },
  "language_info": {
   "codemirror_mode": {
    "name": "ipython",
    "version": 3
   },
   "file_extension": ".py",
   "mimetype": "text/x-python",
   "name": "python",
   "nbconvert_exporter": "python",
   "pygments_lexer": "ipython3",
   "version": "3.9.7"
  }
 },
 "nbformat": 4,
 "nbformat_minor": 5
}
