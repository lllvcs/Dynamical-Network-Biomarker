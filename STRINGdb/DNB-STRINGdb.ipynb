{
 "cells": [
  {
   "cell_type": "code",
   "execution_count": null,
   "id": "14b63c82",
   "metadata": {},
   "outputs": [],
   "source": [
    "# Copyright © 2021 LVCS. All Rights Reserved\n",
    "import numpy as np\n",
    "import pandas as pd\n",
    "\n",
    "# 参数设定\n",
    "string_limit = 700\n",
    "num = 1"
   ]
  },
  {
   "cell_type": "code",
   "execution_count": null,
   "id": "ceb0df2a",
   "metadata": {},
   "outputs": [],
   "source": [
    "# STRINGdb转换部分"
   ]
  },
  {
   "cell_type": "code",
   "execution_count": null,
   "id": "d62a9d27",
   "metadata": {},
   "outputs": [],
   "source": [
    "# STRINGdb数据库导入\n",
    "stringdb = pd.read_csv(\"link.csv\", delimiter=\" \")\n",
    "# 删除前部的9606人类代号\n",
    "stringdb[\"protein1\"] = stringdb[\"protein1\"].str.slice(start=5)\n",
    "stringdb[\"protein2\"] = stringdb[\"protein2\"].str.slice(start=5)\n",
    "# 筛选出高等可信度数据\n",
    "stringdb = stringdb[stringdb[\"combined_score\"] >= string_limit]\n",
    "# 重新排序\n",
    "stringdb = stringdb.reset_index(drop=True)\n"
   ]
  },
  {
   "cell_type": "code",
   "execution_count": null,
   "id": "35488fee",
   "metadata": {},
   "outputs": [],
   "source": [
    "# 导入ENSP-序号对应文件\n",
    "dict1 = pd.read_csv('ensp.csv')\n",
    "length = len(np.unique(dict1[\"ENSG\"].values))\n",
    "\n",
    "# 构建字典文件\n",
    "d = {dict1[\"ENSP\"][i]: int(dict1[\"id\"][i]) for i in range(len(dict1))}\n"
   ]
  },
  {
   "cell_type": "code",
   "execution_count": null,
   "id": "dccaad2e",
   "metadata": {},
   "outputs": [],
   "source": [
    "string_bool = np.zeros([length, length])\n"
   ]
  },
  {
   "cell_type": "code",
   "execution_count": null,
   "id": "348a50dd",
   "metadata": {},
   "outputs": [],
   "source": [
    "# STRINGdb转换为邻接矩阵\n",
    "for i in range(len(stringdb)):\n",
    "    if (stringdb[\"protein1\"][i] in d) & (stringdb[\"protein2\"][i] in d):\n",
    "        string_bool[d[stringdb[\"protein1\"][i]], d[stringdb[\"protein2\"][i]]] = 1\n",
    "\n",
    "for i in range(len(string_bool)):\n",
    "    string_bool[i, i] = 0\n",
    "\n",
    "string_bool = (string_bool == 1)\n"
   ]
  },
  {
   "cell_type": "code",
   "execution_count": null,
   "id": "ee18aacb",
   "metadata": {},
   "outputs": [],
   "source": [
    "# DNB计算部分"
   ]
  },
  {
   "cell_type": "code",
   "execution_count": null,
   "id": "5cbd3b77",
   "metadata": {},
   "outputs": [],
   "source": [
    "# 数据导入\n",
    "frame = pd.read_csv(str(num)+'.csv')\n",
    "del frame['symbol']\n",
    "frame = frame.to_numpy()\n"
   ]
  },
  {
   "cell_type": "code",
   "execution_count": null,
   "id": "a170a418",
   "metadata": {},
   "outputs": [],
   "source": [
    "# DNB计算\n",
    "max_item = []\n",
    "pccin = []\n",
    "pccout = []\n",
    "sdin = []\n",
    "dnb_max_item = []\n"
   ]
  },
  {
   "cell_type": "code",
   "execution_count": null,
   "id": "4f11ba0a",
   "metadata": {},
   "outputs": [],
   "source": [
    "# 计算各项的标准差\n",
    "sd = []\n",
    "for i in range(len(frame)):\n",
    "    sd.append(np.std(frame[i], ddof=1))\n"
   ]
  },
  {
   "cell_type": "code",
   "execution_count": null,
   "id": "c6889119",
   "metadata": {},
   "outputs": [],
   "source": [
    "# 计算各项的相关系数\n",
    "pc = np.corrcoef(frame)\n",
    "pc = np.abs(pc)\n",
    "pc = pc*string_bool\n"
   ]
  },
  {
   "cell_type": "code",
   "execution_count": null,
   "id": "897800e1",
   "metadata": {},
   "outputs": [],
   "source": [
    "# 是否再考虑pc的阈值筛选？\n"
   ]
  },
  {
   "cell_type": "code",
   "execution_count": null,
   "id": "2632fe60",
   "metadata": {},
   "outputs": [],
   "source": [
    "# 计算各项PCCin和SDin\n",
    "for i in range(len(pc)):\n",
    "    pccin_item = np.sum(pc[i, :]) / np.sum(string_bool[i, :])\n",
    "    sdin_item = np.sum(sd*string_bool[i, :]) / np.sum(string_bool[i, :])\n",
    "    if str(pccin_item) == 'nan':\n",
    "        pccin_item = 0\n",
    "    if str(sdin_item) == 'nan':\n",
    "        sdin_item = 0\n",
    "    pccin.append(pccin_item)\n",
    "    sdin.append(sdin_item)\n",
    "\n",
    "pccin = np.array(pccin)\n",
    "sdin = np.array(sdin)\n"
   ]
  },
  {
   "cell_type": "code",
   "execution_count": null,
   "id": "f2d0c664",
   "metadata": {},
   "outputs": [],
   "source": [
    "# 计算各项PCCout\n",
    "for i in range(len(pc)):\n",
    "    x = np.where(pc[i] != 0)[0]\n",
    "    count = 0\n",
    "    pccout_item = 0\n",
    "    for ii in range(len(x)):\n",
    "        y = pc[x[ii]]*(string_bool[i] == 0)\n",
    "        count += np.sum(y != 0)\n",
    "        pccout_item += np.sum(y)\n",
    "    if(count == 0):\n",
    "        pccout.append(0)\n",
    "    else:\n",
    "        pccout.append(pccout_item/count)\n"
   ]
  },
  {
   "cell_type": "code",
   "execution_count": null,
   "id": "7ab9e095",
   "metadata": {},
   "outputs": [],
   "source": [
    "# DNB值计算与输出\n",
    "dnb = pccin*sdin/pccout\n",
    "np.savetxt(\"dnb-string-\"+str(num)+\".csv\", dnb, delimiter=',', fmt='%s')\n"
   ]
  }
 ],
 "metadata": {
  "interpreter": {
   "hash": "43f439b8994fac5a40604812eca8d42def0b0854e12db2f417619df5b4e0f927"
  },
  "kernelspec": {
   "display_name": "Python 3.8.11 64-bit ('cluster': conda)",
   "name": "python3"
  },
  "language_info": {
   "codemirror_mode": {
    "name": "ipython",
    "version": 3
   },
   "file_extension": ".py",
   "mimetype": "text/x-python",
   "name": "python",
   "nbconvert_exporter": "python",
   "pygments_lexer": "ipython3",
   "version": "3.9.7"
  }
 },
 "nbformat": 4,
 "nbformat_minor": 5
}
