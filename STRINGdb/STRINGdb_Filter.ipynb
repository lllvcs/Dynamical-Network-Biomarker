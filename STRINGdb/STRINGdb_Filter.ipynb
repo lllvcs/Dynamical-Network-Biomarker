{
 "cells": [
  {
   "cell_type": "code",
   "execution_count": 1,
   "id": "14b63c82",
   "metadata": {},
   "outputs": [],
   "source": [
    "# Copyright © 2021 LVCS. All Rights Reserved\n",
    "import numpy as np\n",
    "import pandas as pd\n"
   ]
  },
  {
   "cell_type": "code",
   "execution_count": 2,
   "id": "d62a9d27",
   "metadata": {},
   "outputs": [],
   "source": [
    "# STRINGdb数据库导入\n",
    "stringdb = pd.read_csv(\"link.csv\", delimiter=\" \")\n",
    "# 删除前部的9606人类代号\n",
    "stringdb[\"protein1\"] = stringdb[\"protein1\"].str.slice(start=5)\n",
    "stringdb[\"protein2\"] = stringdb[\"protein2\"].str.slice(start=5)\n",
    "# 筛选出Medium Confidence 中等可信度数据\n",
    "stringdb = stringdb[stringdb[\"combined_score\"] >= 400]\n",
    "# 重新排序\n",
    "stringdb = stringdb.reset_index(drop=True)\n"
   ]
  },
  {
   "cell_type": "code",
   "execution_count": 3,
   "id": "7bb990ac",
   "metadata": {},
   "outputs": [],
   "source": [
    "# 待筛选的ENSP数据导入\n",
    "ensp = pd.read_csv(\"ensp.csv\")\n",
    "# 对应数据转化为list\n",
    "ensp_list = ensp[\"ENSP\"].values.tolist()\n"
   ]
  },
  {
   "cell_type": "code",
   "execution_count": 4,
   "id": "fd259e69",
   "metadata": {},
   "outputs": [],
   "source": [
    "# np取交集输出\n",
    "done_ensp = (np.intersect1d(stringdb[\"protein1\"].values, ensp_list))\n",
    "np.savetxt('done_ensp.csv', done_ensp, delimiter=\",\", fmt='%s')\n"
   ]
  }
 ],
 "metadata": {
  "interpreter": {
   "hash": "43f439b8994fac5a40604812eca8d42def0b0854e12db2f417619df5b4e0f927"
  },
  "kernelspec": {
   "display_name": "Python 3.8.11 64-bit ('cluster': conda)",
   "name": "python3"
  },
  "language_info": {
   "codemirror_mode": {
    "name": "ipython",
    "version": 3
   },
   "file_extension": ".py",
   "mimetype": "text/x-python",
   "name": "python",
   "nbconvert_exporter": "python",
   "pygments_lexer": "ipython3",
   "version": "3.9.7"
  }
 },
 "nbformat": 4,
 "nbformat_minor": 5
}
