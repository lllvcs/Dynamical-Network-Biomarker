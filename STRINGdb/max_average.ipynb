{
 "cells": [
  {
   "cell_type": "code",
   "execution_count": null,
   "id": "84962a04",
   "metadata": {},
   "outputs": [],
   "source": [
    "# Copyright © 2021 LVCS. All Rights Reserved\n",
    "# 本程序用于计算最大前n项基因的DNB均值\n",
    "import numpy as np\n",
    "import pandas as pd\n",
    "import heapq\n"
   ]
  },
  {
   "cell_type": "code",
   "execution_count": null,
   "id": "8ca2ffbc",
   "metadata": {},
   "outputs": [],
   "source": [
    "# 时期列表\n",
    "range_list1 = [1, 2, 4, 5, 6]\n",
    "# 前n项\n",
    "range_list2 = [10, 20, 30, 50, 75, 100]\n",
    "# 读取DNB表格\n",
    "frame = pd.read_csv('in.csv')\n",
    "# result初始化\n",
    "result = pd.DataFrame()"
   ]
  },
  {
   "cell_type": "code",
   "execution_count": null,
   "id": "070e8b99",
   "metadata": {},
   "outputs": [],
   "source": [
    "# 计算部分\n",
    "for i in range_list1:\n",
    "    ave = []\n",
    "    for j in range_list2:\n",
    "        ave.append(np.average(heapq.nlargest(j, frame[str(i)].values)))\n",
    "    ave = pd.DataFrame(ave)\n",
    "    ave.columns = [i]\n",
    "    result = pd.concat([result, ave], axis=1)\n",
    "# 重构表格index\n",
    "result.index = range_list2\n"
   ]
  },
  {
   "cell_type": "code",
   "execution_count": null,
   "id": "6bd3dfc7",
   "metadata": {},
   "outputs": [],
   "source": [
    "result"
   ]
  }
 ],
 "metadata": {
  "interpreter": {
   "hash": "43f439b8994fac5a40604812eca8d42def0b0854e12db2f417619df5b4e0f927"
  },
  "kernelspec": {
   "display_name": "Python 3.8.11 64-bit ('cluster': conda)",
   "name": "python3"
  },
  "language_info": {
   "codemirror_mode": {
    "name": "ipython",
    "version": 3
   },
   "file_extension": ".py",
   "mimetype": "text/x-python",
   "name": "python",
   "nbconvert_exporter": "python",
   "pygments_lexer": "ipython3",
   "version": "3.9.7"
  }
 },
 "nbformat": 4,
 "nbformat_minor": 5
}
