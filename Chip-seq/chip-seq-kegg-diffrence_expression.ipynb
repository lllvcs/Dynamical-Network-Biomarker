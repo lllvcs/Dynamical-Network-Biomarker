{
 "cells": [
  {
   "cell_type": "code",
   "execution_count": null,
   "id": "14b63c82",
   "metadata": {},
   "outputs": [],
   "source": [
    "# Copyright © 2022 LVCS. All Rights Reserved\n",
    "import numpy as np\n",
    "import pandas as pd\n",
    "import scipy.stats as stats\n",
    "\n",
    "num1 = str(1)\n",
    "num2 = str(4)\n"
   ]
  },
  {
   "cell_type": "code",
   "execution_count": null,
   "id": "396f9b66",
   "metadata": {},
   "outputs": [],
   "source": [
    "# FDR False Discovery Rate\n",
    "def correct_pvalues_for_multiple_testing(pvalues, correction_type=\"Benjamini-Hochberg\"):\n",
    "    from numpy import array, empty\n",
    "\n",
    "    pvalues = array(pvalues)\n",
    "    n = int(pvalues.shape[0])\n",
    "    new_pvalues = empty(n)\n",
    "    if correction_type == \"Bonferroni\":\n",
    "        new_pvalues = n * pvalues\n",
    "    elif correction_type == \"Bonferroni-Holm\":\n",
    "        values = [(pvalue, i) for i, pvalue in enumerate(pvalues)]\n",
    "        values.sort()\n",
    "        for rank, vals in enumerate(values):\n",
    "            pvalue, i = vals\n",
    "            new_pvalues[i] = (n - rank) * pvalue\n",
    "    elif correction_type == \"Benjamini-Hochberg\":\n",
    "        values = [(pvalue, i) for i, pvalue in enumerate(pvalues)]\n",
    "        values.sort()\n",
    "        values.reverse()\n",
    "        new_values = []\n",
    "        for i, vals in enumerate(values):\n",
    "            rank = n - i\n",
    "            pvalue, index = vals\n",
    "            new_values.append((n / rank) * pvalue)\n",
    "        for i in range(0, int(n) - 1):\n",
    "            if new_values[i] < new_values[i + 1]:\n",
    "                new_values[i + 1] = new_values[i]\n",
    "        for i, vals in enumerate(values):\n",
    "            pvalue, index = vals\n",
    "            new_pvalues[index] = new_values[i]\n",
    "    return new_pvalues\n"
   ]
  },
  {
   "cell_type": "code",
   "execution_count": null,
   "id": "68324b4e",
   "metadata": {},
   "outputs": [],
   "source": [
    "# 数据导入\n",
    "frame1 = pd.read_csv(num1 + \".csv\")\n",
    "frame2 = pd.read_csv(num2 + \".csv\")\n",
    "# frame2 = copy.deepcopy(frame1)\n",
    "# 删除多余数据\n",
    "del frame1[\"peak\"]\n",
    "del frame2[\"peak\"]\n",
    "frame1 = frame1.to_numpy()\n",
    "frame2 = frame2.to_numpy()\n",
    "\n",
    "ttest = []\n",
    "ttest_pass = []\n"
   ]
  },
  {
   "cell_type": "code",
   "execution_count": null,
   "id": "4e9b483d",
   "metadata": {},
   "outputs": [],
   "source": [
    "# t test 利用levene检验，根据p-value>0.05*10判断两总体是否具有方差齐性，并提取出ttest p-value小于0.05的样本\n",
    "for i in range(len(frame1)):\n",
    "    if (stats.levene(frame1[i], frame2[i])[1]) > 0.5:\n",
    "        x = stats.ttest_ind(frame1[i], frame2[i], equal_var=True)[1]\n",
    "        ttest.append(x)\n",
    "        if x < 0.05:\n",
    "            ttest_pass.append(i + 1)\n",
    "    else:\n",
    "        x = stats.ttest_ind(frame1[i], frame2[i], equal_var=False)[1]\n",
    "        ttest.append(x)\n",
    "        if x < 0.05:\n",
    "            ttest_pass.append(i + 1)\n",
    "\n",
    "# FDR修正p-value\n",
    "correct_pvalues = correct_pvalues_for_multiple_testing(\n",
    "    pvalues=ttest, correction_type=\"Benjamini-Hochberg\")\n"
   ]
  },
  {
   "cell_type": "code",
   "execution_count": null,
   "id": "8164d613",
   "metadata": {},
   "outputs": [],
   "source": [
    "frame_origin = pd.read_csv(num1 + \".csv\")\n",
    "frame_origin = frame_origin['peak'].to_numpy()\n",
    "frame_output = []\n"
   ]
  },
  {
   "cell_type": "code",
   "execution_count": null,
   "id": "2065a6e0",
   "metadata": {},
   "outputs": [],
   "source": [
    "# FDR校准数据\n",
    "for i in range(len(correct_pvalues)):\n",
    "    if (correct_pvalues[i]) < 0.05:\n",
    "        frame_output.append(frame_origin[i])\n",
    "frame_output = pd.DataFrame(frame_output)\n"
   ]
  },
  {
   "cell_type": "code",
   "execution_count": null,
   "id": "dce31740",
   "metadata": {},
   "outputs": [],
   "source": [
    "# 原始数据\n",
    "for i in range(len(ttest)):\n",
    "    if (ttest[i]) < 0.05:\n",
    "        frame_output.append(frame_origin[i])\n",
    "frame_output = pd.DataFrame(frame_output)\n"
   ]
  },
  {
   "cell_type": "code",
   "execution_count": null,
   "id": "877aed4a",
   "metadata": {},
   "outputs": [],
   "source": [
    "# 差异表达结果保存\n",
    "frame_output.to_csv(num1 + \"-\" + num2 + \"-fine.csv\", header=0, index=0)\n"
   ]
  },
  {
   "cell_type": "code",
   "execution_count": null,
   "id": "49dbacc2",
   "metadata": {},
   "outputs": [],
   "source": [
    "# 读取ChIPseeker转化数据，并构建字典\n",
    "dict_origin = pd.read_csv(\"peak.annotation.5000.csv\")\n",
    "d = {dict_origin[\"V4\"][i]: str(dict_origin[\"SYMBOL\"][i]) for i in range(len(dict_origin))}\n"
   ]
  },
  {
   "cell_type": "code",
   "execution_count": null,
   "id": "7ac25454",
   "metadata": {},
   "outputs": [],
   "source": [
    "# 目标peak转换为symbol\n",
    "symbol_output = []\n",
    "for i in range(len(frame_output)):\n",
    "    symbol_output.append(d[frame_output.values[i][0]])\n"
   ]
  },
  {
   "cell_type": "code",
   "execution_count": null,
   "id": "a3152376",
   "metadata": {},
   "outputs": [],
   "source": [
    "# kegg_pathway文件symbol读取\n",
    "kegg = (pd.read_csv(\"kegg_symbol.csv\"))[\"symbol\"].values\n",
    "\n",
    "# 数据取交集，提取相关基因\n",
    "overlap = np.intersect1d(symbol_output, kegg)\n"
   ]
  },
  {
   "cell_type": "code",
   "execution_count": null,
   "id": "1c41e3b7",
   "metadata": {},
   "outputs": [],
   "source": [
    "# overlap结果输出\n",
    "np.savetxt(num1 + \"-\" + num2 + \"-intersect1d.csv\",\n",
    "           overlap, fmt=\"%s\", delimiter=',')\n"
   ]
  }
 ],
 "metadata": {
  "interpreter": {
   "hash": "43f439b8994fac5a40604812eca8d42def0b0854e12db2f417619df5b4e0f927"
  },
  "kernelspec": {
   "display_name": "Python 3.8.11 64-bit ('cluster': conda)",
   "name": "python3"
  },
  "language_info": {
   "codemirror_mode": {
    "name": "ipython",
    "version": 3
   },
   "file_extension": ".py",
   "mimetype": "text/x-python",
   "name": "python",
   "nbconvert_exporter": "python",
   "pygments_lexer": "ipython3",
   "version": "3.9.7"
  }
 },
 "nbformat": 4,
 "nbformat_minor": 5
}
