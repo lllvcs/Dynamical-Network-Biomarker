{
 "cells": [
  {
   "cell_type": "code",
   "execution_count": 1,
   "id": "14b63c82",
   "metadata": {},
   "outputs": [],
   "source": [
    "# Copyright © 2022 LVCS. All Rights Reserved\n",
    "# 本脚本主要实现查找差异表达基因在StringDB网络上的一阶邻居，以获得更多相关基因\n",
    "import numpy as np\n",
    "import pandas as pd\n",
    "\n",
    "# 参数设定\n",
    "string_limit = 975\n"
   ]
  },
  {
   "cell_type": "code",
   "execution_count": 2,
   "id": "d62a9d27",
   "metadata": {},
   "outputs": [],
   "source": [
    "# STRINGdb数据库导入\n",
    "stringdb = pd.read_csv(\"link.csv\", delimiter=\" \")\n",
    "# 删除前部的9606人类代号\n",
    "stringdb[\"protein1\"] = stringdb[\"protein1\"].str.slice(start=5)\n",
    "stringdb[\"protein2\"] = stringdb[\"protein2\"].str.slice(start=5)\n",
    "# 筛选出高等可信度数据\n",
    "stringdb = stringdb[stringdb[\"combined_score\"] >= string_limit]\n",
    "# 重新排序\n",
    "stringdb = stringdb.reset_index(drop=True)\n"
   ]
  },
  {
   "cell_type": "code",
   "execution_count": 3,
   "id": "4f19af86",
   "metadata": {},
   "outputs": [],
   "source": [
    "# 差异表达基因导入\n",
    "inter = np.loadtxt(\"intersect1d.csv\", dtype=str)\n",
    "# 基因ENSG-symbol-ENSP对照表格导入\n",
    "ensp = pd.read_csv('ensp.csv')\n"
   ]
  },
  {
   "cell_type": "code",
   "execution_count": 5,
   "id": "1c7de106",
   "metadata": {},
   "outputs": [],
   "source": [
    "# 查找差异表达基因对应的ENSP\n",
    "result = []\n",
    "for i in range(len(inter)):\n",
    "    x = ensp.iloc[np.where(inter[i] == ensp['symbol'].values)].values\n",
    "    for j in range(len(x)):\n",
    "        result.append(\n",
    "            ensp.iloc[np.where(inter[i] == ensp['symbol'].values)].values[j])\n"
   ]
  },
  {
   "cell_type": "code",
   "execution_count": 6,
   "id": "7d46cf70",
   "metadata": {},
   "outputs": [],
   "source": [
    "# 查找StringDB网络上一阶邻居\n",
    "stringresult = []\n",
    "for i in range(len(result)):\n",
    "    x = result[i][2]\n",
    "    y = np.where(x == stringdb[\"protein1\"].values)[0]\n",
    "    for j in range(len(y)):\n",
    "        stringresult.append(stringdb.iloc[y].values[j])\n"
   ]
  },
  {
   "cell_type": "code",
   "execution_count": 7,
   "id": "7401ab6c",
   "metadata": {},
   "outputs": [],
   "source": [
    "# 结果输出\n",
    "np.savetxt(\"string_neighbor_result.csv\",stringresult,delimiter=',',fmt='%s')"
   ]
  }
 ],
 "metadata": {
  "interpreter": {
   "hash": "43f439b8994fac5a40604812eca8d42def0b0854e12db2f417619df5b4e0f927"
  },
  "kernelspec": {
   "display_name": "Python 3.8.11 64-bit ('cluster': conda)",
   "name": "python3"
  },
  "language_info": {
   "codemirror_mode": {
    "name": "ipython",
    "version": 3
   },
   "file_extension": ".py",
   "mimetype": "text/x-python",
   "name": "python",
   "nbconvert_exporter": "python",
   "pygments_lexer": "ipython3",
   "version": "3.9.7"
  }
 },
 "nbformat": 4,
 "nbformat_minor": 5
}
