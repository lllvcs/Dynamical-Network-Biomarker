{
 "cells": [
  {
   "cell_type": "code",
   "execution_count": null,
   "id": "84962a04",
   "metadata": {},
   "outputs": [],
   "source": [
    "# Copyright © 2021 LVCS. All Rights Reserved\n",
    "import numpy as np\n",
    "import pandas as pd\n",
    "import heapq\n",
    "import sys"
   ]
  },
  {
   "cell_type": "code",
   "execution_count": null,
   "id": "8ca2ffbc",
   "metadata": {},
   "outputs": [],
   "source": [
    "# 文件号\n",
    "num = str()\n",
    "# 计数阈值\n",
    "count_num = int()\n",
    "# 输出前N个DNB最大基因\n",
    "output_num = int()\n",
    "\n",
    "# 初始化\n",
    "max_item = []\n",
    "pccin = []\n",
    "pccout = []\n",
    "sdin = []\n",
    "dnb_max_item = []"
   ]
  },
  {
   "cell_type": "code",
   "execution_count": null,
   "id": "8038b563",
   "metadata": {},
   "outputs": [],
   "source": [
    "# 数据导入\n",
    "frame = pd.read_csv(num+'.csv')\n",
    "# 构造symbol字典\n",
    "dict1 = dict(zip(frame.reset_index().values[:, 0], frame.values[:, 0]))\n",
    "\n",
    "# 删除多余数据\n",
    "del frame['symbol']\n",
    "frame = frame.to_numpy()\n",
    "\n",
    "# 计算总表格皮尔森相关系数\n",
    "pc = np.corrcoef(frame)\n",
    "pc = np.abs(pc)\n",
    "\n",
    "# 删除对角线\n",
    "for i in range(len(pc)):\n",
    "    pc[i, i] = 0\n"
   ]
  },
  {
   "cell_type": "code",
   "execution_count": null,
   "id": "bf07c2c5",
   "metadata": {},
   "outputs": [],
   "source": [
    "# 找到每项前*个最大相关项\n",
    "for i in range(len(pc)):\n",
    "    max_item.append(heapq.nlargest(count_num, range(len(pc[i])), pc[i].take))\n",
    "    pccin_item = np.sum(pc[i, max_item[i]])\n",
    "    sdin_item = np.std(pc[i, max_item[i]], ddof=1)\n",
    "    pccin.append(pccin_item)\n",
    "    sdin.append(sdin_item)\n",
    "\n",
    "pccin = np.array(pccin)\n",
    "sdin = np.array(sdin)\n",
    "\n",
    "for i in range(len(pc)):\n",
    "    pccout_item = (np.sum(pccin[max_item[i]])-pccin[i])/(count_num-1)\n",
    "    pccout.append(pccout_item)\n",
    "\n",
    "pccout = np.array(pccout)\n",
    "dnb = pccin*sdin/pccout\n",
    "dnb_max_item = dnb.argsort()[::-1][0:output_num]\n",
    "dnb_max_item = dnb_max_item.tolist()\n"
   ]
  },
  {
   "cell_type": "code",
   "execution_count": null,
   "id": "9966ffaa",
   "metadata": {},
   "outputs": [],
   "source": [
    "# 输出\n",
    "print(num, \":\")\n",
    "print(\"symbol:\")\n",
    "for i in range(output_num):\n",
    "    print(dict1[dnb_max_item[i]])\n",
    "print(\"ID:\")\n",
    "for i in range(output_num):\n",
    "    print(dnb[dnb_max_item[i]])\n"
   ]
  }
 ],
 "metadata": {
  "interpreter": {
   "hash": "43f439b8994fac5a40604812eca8d42def0b0854e12db2f417619df5b4e0f927"
  },
  "kernelspec": {
   "display_name": "Python 3.8.11 64-bit ('cluster': conda)",
   "name": "python3"
  },
  "language_info": {
   "codemirror_mode": {
    "name": "ipython",
    "version": 3
   },
   "file_extension": ".py",
   "mimetype": "text/x-python",
   "name": "python",
   "nbconvert_exporter": "python",
   "pygments_lexer": "ipython3",
   "version": "3.8.11"
  }
 },
 "nbformat": 4,
 "nbformat_minor": 5
}
