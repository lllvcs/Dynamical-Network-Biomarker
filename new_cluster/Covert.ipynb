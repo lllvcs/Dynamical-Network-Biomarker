{
 "cells": [
  {
   "cell_type": "code",
   "execution_count": null,
   "id": "14b63c82",
   "metadata": {},
   "outputs": [],
   "source": [
    "# Copyright © 2021 LVCS. All Rights Reserved\n",
    "import numpy as np\n",
    "import pandas as pd\n",
    "\n",
    "num = str(1)"
   ]
  },
  {
   "cell_type": "code",
   "execution_count": null,
   "metadata": {},
   "outputs": [],
   "source": [
    "# 导入数据，初始化\n",
    "cluster_result_raw = np.loadtxt(\"result\" + num + \".csv\", delimiter=\",\")\n",
    "cluster_done = np.zeros(np.sum(cluster_result_raw != 0) + 1, dtype=int)"
   ]
  },
  {
   "cell_type": "code",
   "execution_count": null,
   "metadata": {},
   "outputs": [],
   "source": [
    "# 整理聚类\n",
    "for i in range(len(cluster_result_raw)):\n",
    "    for j in range(len(cluster_result_raw[0][:])):\n",
    "        if cluster_result_raw[i][j] == 0:\n",
    "            break\n",
    "        else:\n",
    "            cluster_done[int(cluster_result_raw[i, j])] = str(i + 1)\n",
    "\n",
    "# 针对缺少元素的处理\n",
    "# a = np.where(cluster_done == 0)\n",
    "# cluster_done[a[0][1]] = (len(cluster_result_raw))\n",
    "\n",
    "# 删除多余项\n",
    "cluster_done = np.delete(cluster_done, cluster_done == 0)\n",
    "\n",
    "# 转换为df类型，方便输出\n",
    "cluster_done = pd.DataFrame(cluster_done)\n",
    "cluster_done.columns = [\"cluster\"]"
   ]
  },
  {
   "cell_type": "code",
   "execution_count": null,
   "metadata": {},
   "outputs": [],
   "source": [
    "# 数据导出\n",
    "cluster_done.to_csv(\"done\" + num + \".csv\", index=False)"
   ]
  }
 ],
 "metadata": {
  "interpreter": {
   "hash": "43f439b8994fac5a40604812eca8d42def0b0854e12db2f417619df5b4e0f927"
  },
  "kernelspec": {
   "display_name": "Python 3.8.11 64-bit ('cluster': conda)",
   "name": "python3"
  },
  "language_info": {
   "codemirror_mode": {
    "name": "ipython",
    "version": 3
   },
   "file_extension": ".py",
   "mimetype": "text/x-python",
   "name": "python",
   "nbconvert_exporter": "python",
   "pygments_lexer": "ipython3",
   "version": "3.8.11"
  }
 },
 "nbformat": 4,
 "nbformat_minor": 5
}
