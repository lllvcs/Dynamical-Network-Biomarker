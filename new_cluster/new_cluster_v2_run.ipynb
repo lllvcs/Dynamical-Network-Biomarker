{
 "cells": [
  {
   "cell_type": "code",
   "execution_count": null,
   "id": "14b63c82",
   "metadata": {},
   "outputs": [],
   "source": [
    "from matplotlib import pyplot as plt\n",
    "from scipy.cluster.hierarchy import dendrogram, linkage, cophenet, complete, fcluster\n",
    "import numpy as np\n",
    "import pandas as pd\n",
    "from scipy.spatial.distance import pdist\n",
    "from scipy.special import perm, comb\n",
    "import random\n",
    "import copy\n",
    "%matplotlib inline\n",
    "#np.set_printoptions(precision=5, suppress=True)\n"
   ]
  },
  {
   "cell_type": "code",
   "execution_count": null,
   "metadata": {},
   "outputs": [],
   "source": [
    "# 阈值\n",
    "pccin_min = 0.75\n",
    "element_limit = 20\n"
   ]
  },
  {
   "cell_type": "code",
   "execution_count": null,
   "id": "f6ba245b",
   "metadata": {},
   "outputs": [],
   "source": [
    "# 数据导入\n",
    "frame1 = pd.read_csv('./data/1.csv')\n",
    "#frame2 = copy.deepcopy(frame1)"
   ]
  },
  {
   "cell_type": "code",
   "execution_count": null,
   "id": "f7c20c49",
   "metadata": {},
   "outputs": [],
   "source": [
    "# 删除多余数据\n",
    "del frame1['symbol']\n",
    "frame1 = frame1.to_numpy()\n",
    "\n",
    "# 计算总表格皮尔森相关系数\n",
    "pc = np.corrcoef(frame1)\n",
    "pc = np.abs(pc)\n"
   ]
  },
  {
   "cell_type": "code",
   "execution_count": null,
   "id": "13d5843a",
   "metadata": {},
   "outputs": [],
   "source": [
    "\n",
    "# 删除对角线\n",
    "for i in range(len(pc)):\n",
    "    pc[i, i] = 0\n",
    "\n"
   ]
  },
  {
   "cell_type": "code",
   "execution_count": null,
   "id": "0b72cf23",
   "metadata": {},
   "outputs": [],
   "source": [
    "#pc = np.row_stack((np.zeros(len(pc)), pc))\n",
    "#pc = np.column_stack((np.zeros(len(pc)), pc))"
   ]
  },
  {
   "cell_type": "code",
   "execution_count": null,
   "id": "f65dd15f",
   "metadata": {},
   "outputs": [],
   "source": [
    "# 深度拷贝，防止影响原矩阵\n",
    "pc_temp = copy.deepcopy(pc)\n",
    "pc_find = copy.deepcopy(pc)\n",
    "pc_find = np.tril(pc_find)\n",
    "\n",
    "# 聚类分组初始化\n",
    "cluster = np.empty([10000, 1000], dtype=int)\n",
    "\n",
    "# 聚类计数\n",
    "i = 0"
   ]
  },
  {
   "cell_type": "code",
   "execution_count": null,
   "id": "d299e8ce",
   "metadata": {},
   "outputs": [],
   "source": [
    "while 1:\n",
    "\n",
    "    # 求出最大相关系数\n",
    "    x = np.max(pc_find)\n",
    "\n",
    "    # 标记矩阵中无剩余元素，循环跳出，将所有聚类结果输出\n",
    "    if x == 0:\n",
    "        cluster = cluster[~(cluster == 0).all(1)]\n",
    "        idx = np.argwhere(np.all(cluster[..., :] == 0, axis=0))\n",
    "        cluster = np.delete(cluster, idx, axis=1)\n",
    "\n",
    "        np.savetxt('result1.csv', cluster, delimiter=',', fmt='%d')\n",
    "        print(\"done!\")\n",
    "        break\n",
    "\n",
    "    print(\"i:\", i)\n",
    "\n",
    "    # 查找最大相关系数的坐标\n",
    "    max_peer = np.where(pc_temp == np.max(pc_temp))\n",
    "\n",
    "    # 最大相关系数对写入聚类分组\n",
    "    cluster[i][0] = max_peer[0][0]\n",
    "    cluster[i][1] = max_peer[1][0]\n",
    "\n",
    "    # 在标记矩阵中移除写入聚类分组的数据\n",
    "    pc_find[max_peer[0][0]] = 0\n",
    "    pc_find[max_peer[1][0]] = 0\n",
    "    pc_find[:, max_peer[0][0]] = 0\n",
    "    pc_find[:, max_peer[1][0]] = 0\n",
    "\n",
    "    pc_temp[:, max_peer[0][0]] = 0\n",
    "    pc_temp[:, max_peer[1][0]] = 0\n",
    "\n",
    "    # 聚类内元素计数，初始为2，PCCin即为相关系数\n",
    "    times = 2\n",
    "    pccin = x\n",
    "\n",
    "    while 1:\n",
    "\n",
    "        # 初始化\n",
    "        group = 0\n",
    "\n",
    "        # 聚类内元素对应相关系数行相加\n",
    "        for j in range(times):  # j\n",
    "            group = group + pc_temp[cluster[i, j]]\n",
    "\n",
    "        # 查找外部相关系数最大的元素\n",
    "        max_peer_next = np.where(group == np.max(group))[0][0]\n",
    "\n",
    "        # 判断是否还存在元素\n",
    "        if max_peer_next == 0:\n",
    "            break\n",
    "\n",
    "        # 将该元素加入聚类内\n",
    "        cluster[i, times] = max_peer_next\n",
    "\n",
    "        # 在标记矩阵中移除该加入聚类的元素\n",
    "        pc_find[max_peer_next] = 0\n",
    "        pc_find[:, max_peer_next] = 0\n",
    "\n",
    "        pc_temp[:, max_peer_next] = 0\n",
    "\n",
    "        # 计算聚类内PCCin之和，判断是否跳出\n",
    "        for j in range(times):\n",
    "            pccin = pccin + pc[(cluster[i, j]), (cluster[i, times])]\n",
    "\n",
    "        # 聚类内元素计数加一\n",
    "        times = times + 1\n",
    "\n",
    "        # 计算聚类内PCCin均值\n",
    "        pccin_ave = pccin / comb(times, 2)\n",
    "\n",
    "        # 聚类内阈值检测，跳出\n",
    "        if (pccin_ave < pccin_min) and (times >= element_limit):\n",
    "            break\n",
    "        if times >= 1000:\n",
    "            break\n",
    "\n",
    "    i = i+1\n"
   ]
  }
 ],
 "metadata": {
  "interpreter": {
   "hash": "43f439b8994fac5a40604812eca8d42def0b0854e12db2f417619df5b4e0f927"
  },
  "kernelspec": {
   "display_name": "Python 3.8.11 64-bit ('cluster': conda)",
   "name": "python3"
  },
  "language_info": {
   "codemirror_mode": {
    "name": "ipython",
    "version": 3
   },
   "file_extension": ".py",
   "mimetype": "text/x-python",
   "name": "python",
   "nbconvert_exporter": "python",
   "pygments_lexer": "ipython3",
   "version": "3.8.11"
  }
 },
 "nbformat": 4,
 "nbformat_minor": 5
}
