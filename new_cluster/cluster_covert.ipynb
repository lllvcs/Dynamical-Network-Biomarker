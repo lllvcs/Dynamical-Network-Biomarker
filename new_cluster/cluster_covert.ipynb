{
 "cells": [
  {
   "cell_type": "code",
   "execution_count": 38,
   "id": "14b63c82",
   "metadata": {},
   "outputs": [],
   "source": [
    "from matplotlib import pyplot as plt\n",
    "from scipy.cluster.hierarchy import dendrogram, linkage, cophenet, complete, fcluster\n",
    "import numpy as np\n",
    "import pandas as pd\n",
    "from scipy.spatial.distance import pdist\n",
    "from scipy.special import perm, comb\n",
    "import random\n",
    "%matplotlib inline\n",
    "#np.set_printoptions(precision=5, suppress=True)\n"
   ]
  },
  {
   "cell_type": "code",
   "execution_count": 39,
   "metadata": {},
   "outputs": [],
   "source": [
    "# 导入数据，初始化\n",
    "cluster_result_raw = np.loadtxt(\"result2+3.csv\", delimiter=\",\")\n",
    "cluster_done = np.zeros(20000, dtype=int)\n"
   ]
  },
  {
   "cell_type": "code",
   "execution_count": 40,
   "metadata": {},
   "outputs": [],
   "source": [
    "# 整理聚类\n",
    "for i in range(len(cluster_result_raw)):\n",
    "    for j in range(len(cluster_result_raw[0][:])):\n",
    "        if cluster_result_raw[i][j] == 0:\n",
    "            break\n",
    "        else:\n",
    "            cluster_done[int(cluster_result_raw[i, j])] = i+1\n",
    "\n",
    "# 删除多余项\n",
    "cluster_done = np.delete(cluster_done, cluster_done == 0)\n",
    "\n"
   ]
  },
  {
   "cell_type": "code",
   "execution_count": 41,
   "metadata": {},
   "outputs": [],
   "source": [
    "# 数据导出\n",
    "np.savetxt(\"done2+3.csv\",cluster_done,fmt='%d')"
   ]
  }
 ],
 "metadata": {
  "interpreter": {
   "hash": "43f439b8994fac5a40604812eca8d42def0b0854e12db2f417619df5b4e0f927"
  },
  "kernelspec": {
   "display_name": "Python 3.8.11 64-bit ('cluster': conda)",
   "name": "python3"
  },
  "language_info": {
   "codemirror_mode": {
    "name": "ipython",
    "version": 3
   },
   "file_extension": ".py",
   "mimetype": "text/x-python",
   "name": "python",
   "nbconvert_exporter": "python",
   "pygments_lexer": "ipython3",
   "version": "3.8.11"
  }
 },
 "nbformat": 4,
 "nbformat_minor": 5
}
