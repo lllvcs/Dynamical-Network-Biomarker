{
 "cells": [
  {
   "cell_type": "code",
   "execution_count": 1,
   "id": "14b63c82",
   "metadata": {},
   "outputs": [],
   "source": [
    "import numpy as np"
   ]
  },
  {
   "cell_type": "code",
   "execution_count": 39,
   "metadata": {},
   "outputs": [],
   "source": [
    "# 导入数据，初始化\n",
    "cluster_result_raw = np.loadtxt(\"in.csv\", delimiter=\",\")\n",
    "cluster_done = np.zeros(20000, dtype=int)"
   ]
  },
  {
   "cell_type": "code",
   "execution_count": 40,
   "metadata": {},
   "outputs": [],
   "source": [
    "# 整理聚类\n",
    "for i in range(len(cluster_result_raw)):\n",
    "    for j in range(len(cluster_result_raw[0][:])):\n",
    "        if cluster_result_raw[i][j] == 0:\n",
    "            break\n",
    "        else:\n",
    "            cluster_done[int(cluster_result_raw[i, j])] = i + 1\n",
    "\n",
    "# 删除多余项\n",
    "cluster_done = np.delete(cluster_done, cluster_done == 0)"
   ]
  },
  {
   "cell_type": "code",
   "execution_count": 41,
   "metadata": {},
   "outputs": [],
   "source": [
    "# 数据导出\n",
    "np.savetxt(\"out.csv\", cluster_done, fmt='%d')"
   ]
  }
 ],
 "metadata": {
  "interpreter": {
   "hash": "4d561af6efe116e42ffb43c9b86fee6adc124027d9389182e02da8a6b26c8c7c"
  },
  "kernelspec": {
   "display_name": "Python 3.8.10 64-bit",
   "name": "python3"
  },
  "language_info": {
   "codemirror_mode": {
    "name": "ipython",
    "version": 3
   },
   "file_extension": ".py",
   "mimetype": "text/x-python",
   "name": "python",
   "nbconvert_exporter": "python",
   "pygments_lexer": "ipython3",
   "version": "3.9.9"
  }
 },
 "nbformat": 4,
 "nbformat_minor": 5
}
